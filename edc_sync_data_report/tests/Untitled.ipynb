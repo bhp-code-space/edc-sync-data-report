{
 "cells": [
  {
   "cell_type": "code",
   "execution_count": 50,
   "id": "c6aaf2af",
   "metadata": {},
   "outputs": [
    {
     "name": "stderr",
     "output_type": "stream",
     "text": [
      "/var/folders/qq/d90jkkpn0tddc8y3mkn1mdr00000gp/T/ipykernel_16074/2666666518.py:21: SettingWithCopyWarning: \n",
      "A value is trying to be set on a copy of a slice from a DataFrame.\n",
      "Try using .loc[row_indexer,col_indexer] = value instead\n",
      "\n",
      "See the caveats in the documentation: https://pandas.pydata.org/pandas-docs/stable/user_guide/indexing.html#returning-a-view-versus-a-copy\n",
      "  data_without_duplicates['Created_at'] = pd.to_datetime(df['Created_at']).dt.date\n"
     ]
    },
    {
     "data": {
      "text/plain": [
       "@ChaoticCrypto_    130\n",
       "@CryptoNews2000     57\n",
       "@relai_app          57\n",
       "@AJBlackston        44\n",
       "@KitcoNewsNOW       39\n",
       "                  ... \n",
       "@livuniphyssci       1\n",
       "@tmj_ME_finance      1\n",
       "@AltpayFinance       1\n",
       "@brysonandy          1\n",
       "@vonderleyen         1\n",
       "Name: Tweets, Length: 1163, dtype: int64"
      ]
     },
     "execution_count": 50,
     "metadata": {},
     "output_type": "execute_result"
    }
   ],
   "source": [
    "import pandas as pd\n",
    "# After reading json into a csv file..\n",
    "df = pd.read_csv(\"finance_data.csv\")\n",
    "#df\n",
    "\n",
    "# Find duplicates\n",
    "\n",
    "duplicates = df[df.duplicated(['User', 'Tweets'], keep=False)]\n",
    "\n",
    "duplicates\n",
    "\n",
    "ids = duplicates['id'].tolist()\n",
    "\n",
    "df[\"id\"].isin(ids)\n",
    "\n",
    "data_without_duplicates = df[~df[\"id\"].isin(ids)]\n",
    "\n",
    "#data_without_duplicates\n",
    "\n",
    "# Format date to display date onyl without time\n",
    "data_without_duplicates['Created_at'] = pd.to_datetime(df['Created_at']).dt.date\n",
    "\n",
    "data_without_duplicates.head()\n",
    "\n",
    "data_without_duplicates\n",
    "\n",
    "counts = data_without_duplicates['Tweets'].str.findall(r'(@\\w+)').explode().value_counts()\n",
    "\n",
    "counts\n",
    "\n",
    "#counts.to_csv(\"frequencies_count.csv\", sep=',', encoding='utf-8')\n",
    "\n",
    "#data_without_duplicates.to_csv(\"cleaned_data.csv\", sep=',', encoding='utf-8')\n",
    "\n",
    "#removed_duplicates_df = "
   ]
  },
  {
   "cell_type": "code",
   "execution_count": 48,
   "id": "db89863b",
   "metadata": {},
   "outputs": [
    {
     "name": "stdout",
     "output_type": "stream",
     "text": [
      "/Users/tsetsiba/MY_PROJECTS/edc-sync-data-report/edc_sync_data_report/tests\r\n"
     ]
    }
   ],
   "source": [
    "!pwd\n"
   ]
  },
  {
   "cell_type": "code",
   "execution_count": null,
   "id": "a942be84",
   "metadata": {},
   "outputs": [],
   "source": []
  }
 ],
 "metadata": {
  "kernelspec": {
   "display_name": "Django Shell-Plus",
   "language": "python",
   "name": "django_extensions"
  },
  "language_info": {
   "codemirror_mode": {
    "name": "ipython",
    "version": 3
   },
   "file_extension": ".py",
   "mimetype": "text/x-python",
   "name": "python",
   "nbconvert_exporter": "python",
   "pygments_lexer": "ipython3",
   "version": "3.8.12"
  }
 },
 "nbformat": 4,
 "nbformat_minor": 5
}
